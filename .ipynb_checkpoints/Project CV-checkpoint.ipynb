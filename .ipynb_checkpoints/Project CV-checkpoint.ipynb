{
 "cells": [
  {
   "cell_type": "markdown",
   "id": "0e4ec2d6",
   "metadata": {},
   "source": [
    "# Project CV - Pneumonia Detection"
   ]
  },
  {
   "cell_type": "markdown",
   "id": "fd2a19dd",
   "metadata": {},
   "source": [
    "+ `Maximilian Mörth: if22b190`\n",
    "+ `Alan Pisazka: if20b141`\n",
    "\n",
    "DataSet: https://data.mendeley.com/datasets/rscbjbr9sj/3"
   ]
  },
  {
   "cell_type": "markdown",
   "id": "2849db16",
   "metadata": {},
   "source": [
    "## Dataset"
   ]
  },
  {
   "cell_type": "markdown",
   "id": "2df60bc7",
   "metadata": {},
   "source": [
    ">+ How does the project relate to real applications?\n",
    ">+ Describe the dataset (Was it balanced? What was the imaging source? Etc.)\n",
    ">+ How does the project relate to real applications?\n",
    ">+ Which problems did you encounter and how did you solve them?\n",
    ">+ Describe what you did and why you did it!"
   ]
  },
  {
   "cell_type": "markdown",
   "id": "30713917",
   "metadata": {},
   "source": [
    "## Practical Part"
   ]
  },
  {
   "cell_type": "markdown",
   "id": "b2e383ca",
   "metadata": {},
   "source": [
    "### Preparation"
   ]
  },
  {
   "cell_type": "markdown",
   "id": "9c92d4b6",
   "metadata": {},
   "source": [
    "#### 0. Import Librarys"
   ]
  },
  {
   "cell_type": "code",
   "execution_count": null,
   "id": "468d2993",
   "metadata": {},
   "outputs": [],
   "source": []
  },
  {
   "cell_type": "markdown",
   "id": "39c2f0df",
   "metadata": {},
   "source": [
    "#### 1. Loading the Image Dataset"
   ]
  },
  {
   "cell_type": "code",
   "execution_count": null,
   "id": "16efab9a",
   "metadata": {},
   "outputs": [],
   "source": []
  },
  {
   "cell_type": "markdown",
   "id": "0dc68c7d",
   "metadata": {},
   "source": [
    "#### 2. Exploring the Data / Visualize"
   ]
  },
  {
   "cell_type": "code",
   "execution_count": null,
   "id": "4a22c6c4",
   "metadata": {},
   "outputs": [],
   "source": []
  },
  {
   "cell_type": "markdown",
   "id": "21185f80",
   "metadata": {},
   "source": [
    "### Image Preprocessing"
   ]
  },
  {
   "cell_type": "markdown",
   "id": "a6e116a4",
   "metadata": {},
   "source": [
    "#### 1. Data Augmentation"
   ]
  },
  {
   "cell_type": "code",
   "execution_count": null,
   "id": "bf6c4e49",
   "metadata": {},
   "outputs": [],
   "source": []
  },
  {
   "cell_type": "markdown",
   "id": "c421c7ec",
   "metadata": {},
   "source": [
    "#### 2. Train Test Split"
   ]
  },
  {
   "cell_type": "code",
   "execution_count": null,
   "id": "0f30aced",
   "metadata": {},
   "outputs": [],
   "source": []
  },
  {
   "cell_type": "markdown",
   "id": "5d95fb22",
   "metadata": {},
   "source": [
    "### Model build/training"
   ]
  },
  {
   "cell_type": "code",
   "execution_count": null,
   "id": "2e5715be",
   "metadata": {},
   "outputs": [],
   "source": []
  },
  {
   "cell_type": "markdown",
   "id": "ef20f378",
   "metadata": {},
   "source": [
    "### Results / Discussion"
   ]
  },
  {
   "cell_type": "code",
   "execution_count": null,
   "id": "930fe54e",
   "metadata": {},
   "outputs": [],
   "source": []
  }
 ],
 "metadata": {
  "kernelspec": {
   "display_name": "Python 3 (ipykernel)",
   "language": "python",
   "name": "python3"
  },
  "language_info": {
   "codemirror_mode": {
    "name": "ipython",
    "version": 3
   },
   "file_extension": ".py",
   "mimetype": "text/x-python",
   "name": "python",
   "nbconvert_exporter": "python",
   "pygments_lexer": "ipython3",
   "version": "3.11.4"
  }
 },
 "nbformat": 4,
 "nbformat_minor": 5
}
